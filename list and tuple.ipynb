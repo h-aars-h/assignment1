{
 "cells": [
  {
   "cell_type": "code",
   "execution_count": 1,
   "id": "4ed4a247-21d8-45a5-a3e6-81688c4281b4",
   "metadata": {},
   "outputs": [],
   "source": [
    "l=[1232,\"HARSH\",\"WATER\",1.323,5454,True]"
   ]
  },
  {
   "cell_type": "code",
   "execution_count": 11,
   "id": "f25dfd41-81db-4499-a698-2eb432c975a6",
   "metadata": {},
   "outputs": [
    {
     "data": {
      "text/plain": [
       "list"
      ]
     },
     "execution_count": 11,
     "metadata": {},
     "output_type": "execute_result"
    }
   ],
   "source": [
    "type(l)"
   ]
  },
  {
   "cell_type": "code",
   "execution_count": 15,
   "id": "f64fe67b-5253-4e34-b582-0f1dad574a8b",
   "metadata": {},
   "outputs": [
    {
     "data": {
      "text/plain": [
       "1232"
      ]
     },
     "execution_count": 15,
     "metadata": {},
     "output_type": "execute_result"
    }
   ],
   "source": [
    "l[0]"
   ]
  },
  {
   "cell_type": "code",
   "execution_count": 19,
   "id": "e72b9722-bc4d-4c86-9446-12790e41ebfb",
   "metadata": {},
   "outputs": [
    {
     "data": {
      "text/plain": [
       "[1232, 'HARSH', 'WATER']"
      ]
     },
     "execution_count": 19,
     "metadata": {},
     "output_type": "execute_result"
    }
   ],
   "source": [
    "l[0:3]"
   ]
  },
  {
   "cell_type": "code",
   "execution_count": 22,
   "id": "ff835522-d737-43f2-8f0e-40517b8fafaa",
   "metadata": {},
   "outputs": [],
   "source": [
    "s=\"this is \""
   ]
  },
  {
   "cell_type": "code",
   "execution_count": 25,
   "id": "63aa3b07-3cf5-4bea-95e5-132e47357a16",
   "metadata": {},
   "outputs": [
    {
     "data": {
      "text/plain": [
       "str"
      ]
     },
     "execution_count": 25,
     "metadata": {},
     "output_type": "execute_result"
    }
   ],
   "source": [
    "type(s)"
   ]
  },
  {
   "cell_type": "code",
   "execution_count": 30,
   "id": "3e721c3f-69e2-4c2e-8027-e03d9147578d",
   "metadata": {},
   "outputs": [
    {
     "data": {
      "text/plain": [
       "'ARS'"
      ]
     },
     "execution_count": 30,
     "metadata": {},
     "output_type": "execute_result"
    }
   ],
   "source": [
    "l[1][1:4]"
   ]
  },
  {
   "cell_type": "code",
   "execution_count": 34,
   "id": "91315599-5cbe-4825-b469-fcb0a6701a2a",
   "metadata": {},
   "outputs": [
    {
     "data": {
      "text/plain": [
       "5454"
      ]
     },
     "execution_count": 34,
     "metadata": {},
     "output_type": "execute_result"
    }
   ],
   "source": [
    "l[4]"
   ]
  },
  {
   "cell_type": "code",
   "execution_count": 36,
   "id": "c741c42e-9333-45e1-93df-1fa4cdcd8bb0",
   "metadata": {},
   "outputs": [],
   "source": [
    "l1=[True]"
   ]
  },
  {
   "cell_type": "code",
   "execution_count": 38,
   "id": "91ec66d1-02c0-4232-bdfd-aab1641b71ec",
   "metadata": {},
   "outputs": [
    {
     "ename": "TypeError",
     "evalue": "'bool' object is not subscriptable",
     "output_type": "error",
     "traceback": [
      "\u001b[0;31m---------------------------------------------------------------------------\u001b[0m",
      "\u001b[0;31mTypeError\u001b[0m                                 Traceback (most recent call last)",
      "Cell \u001b[0;32mIn [38], line 1\u001b[0m\n\u001b[0;32m----> 1\u001b[0m \u001b[43ml1\u001b[49m\u001b[43m[\u001b[49m\u001b[38;5;241;43m0\u001b[39;49m\u001b[43m]\u001b[49m\u001b[43m[\u001b[49m\u001b[38;5;241;43m0\u001b[39;49m\u001b[43m]\u001b[49m\n",
      "\u001b[0;31mTypeError\u001b[0m: 'bool' object is not subscriptable"
     ]
    }
   ],
   "source": [
    "l1[0][0]"
   ]
  },
  {
   "cell_type": "code",
   "execution_count": 40,
   "id": "641a27cc-04f4-42b1-ad2a-47f40010383c",
   "metadata": {},
   "outputs": [],
   "source": [
    "l.append(l1)"
   ]
  },
  {
   "cell_type": "code",
   "execution_count": 43,
   "id": "90a642f0-7264-4bb1-b43b-fdd1ad568fd6",
   "metadata": {},
   "outputs": [
    {
     "data": {
      "text/plain": [
       "[1232, 'HARSH', 'WATER', 1.323, 5454, [True], [True]]"
      ]
     },
     "execution_count": 43,
     "metadata": {},
     "output_type": "execute_result"
    }
   ],
   "source": [
    "l"
   ]
  },
  {
   "cell_type": "code",
   "execution_count": 46,
   "id": "d99bf319-e7d8-44c1-b96f-5ada9bf631f5",
   "metadata": {},
   "outputs": [
    {
     "data": {
      "text/plain": [
       "'A'"
      ]
     },
     "execution_count": 46,
     "metadata": {},
     "output_type": "execute_result"
    }
   ],
   "source": [
    "l[1][1]"
   ]
  },
  {
   "cell_type": "code",
   "execution_count": 59,
   "id": "7fd5dfab-5952-4ead-916f-60d42a68fcde",
   "metadata": {},
   "outputs": [
    {
     "data": {
      "text/plain": [
       "[1232,\n",
       " 'HARSH',\n",
       " 'WATER',\n",
       " 1.323,\n",
       " 5454,\n",
       " [True],\n",
       " [True],\n",
       " 'H',\n",
       " 'A',\n",
       " 'R',\n",
       " 'S',\n",
       " 'H',\n",
       " 'H',\n",
       " 'A',\n",
       " 'R',\n",
       " 'S',\n",
       " 'H',\n",
       " 'H',\n",
       " 'A',\n",
       " 'R',\n",
       " 'S',\n",
       " 'H',\n",
       " 'H',\n",
       " 'A',\n",
       " 'R',\n",
       " 'S',\n",
       " 'H',\n",
       " 'H',\n",
       " 'A',\n",
       " 'R',\n",
       " 'S',\n",
       " 'H',\n",
       " 'H',\n",
       " 'A',\n",
       " 'R',\n",
       " 'S',\n",
       " 'H']"
      ]
     },
     "execution_count": 59,
     "metadata": {},
     "output_type": "execute_result"
    }
   ],
   "source": [
    "l"
   ]
  },
  {
   "cell_type": "code",
   "execution_count": 65,
   "id": "56018b19-0687-42a3-86fb-79d1f25afd11",
   "metadata": {},
   "outputs": [],
   "source": [
    "l3=[123,\"harsh\",1233,0.12]"
   ]
  },
  {
   "cell_type": "code",
   "execution_count": 71,
   "id": "90fd6f40-397e-4741-a200-b90015febef0",
   "metadata": {},
   "outputs": [
    {
     "data": {
      "text/plain": [
       "0.12"
      ]
     },
     "execution_count": 71,
     "metadata": {},
     "output_type": "execute_result"
    }
   ],
   "source": [
    "l3.pop(3)"
   ]
  },
  {
   "cell_type": "code",
   "execution_count": 74,
   "id": "69c1f357-0066-400f-b5b7-6a3b12ff5b92",
   "metadata": {},
   "outputs": [
    {
     "data": {
      "text/plain": [
       "[123, 'harsh', 1233]"
      ]
     },
     "execution_count": 74,
     "metadata": {},
     "output_type": "execute_result"
    }
   ],
   "source": [
    "l3"
   ]
  },
  {
   "cell_type": "code",
   "execution_count": 78,
   "id": "923f7918-4dd1-4eb2-be62-249d7661e709",
   "metadata": {},
   "outputs": [
    {
     "ename": "IndexError",
     "evalue": "pop from empty list",
     "output_type": "error",
     "traceback": [
      "\u001b[0;31m---------------------------------------------------------------------------\u001b[0m",
      "\u001b[0;31mIndexError\u001b[0m                                Traceback (most recent call last)",
      "Cell \u001b[0;32mIn [78], line 1\u001b[0m\n\u001b[0;32m----> 1\u001b[0m \u001b[43ml3\u001b[49m\u001b[38;5;241;43m.\u001b[39;49m\u001b[43mpop\u001b[49m\u001b[43m(\u001b[49m\u001b[38;5;241;43m1\u001b[39;49m\u001b[43m)\u001b[49m\n",
      "\u001b[0;31mIndexError\u001b[0m: pop from empty list"
     ]
    }
   ],
   "source": [
    "l3.pop(1)"
   ]
  },
  {
   "cell_type": "code",
   "execution_count": 84,
   "id": "a03401fc-9d82-46aa-81ef-ee6e335ab181",
   "metadata": {},
   "outputs": [
    {
     "data": {
      "text/plain": [
       "['h',\n",
       " 'a',\n",
       " 'r',\n",
       " 's',\n",
       " 'h',\n",
       " 'h',\n",
       " 'a',\n",
       " 'r',\n",
       " 's',\n",
       " 'h',\n",
       " 'h',\n",
       " 'a',\n",
       " 'r',\n",
       " 's',\n",
       " 'h',\n",
       " 'h',\n",
       " 'a',\n",
       " 'r',\n",
       " 's',\n",
       " 'h']"
      ]
     },
     "execution_count": 84,
     "metadata": {},
     "output_type": "execute_result"
    }
   ],
   "source": [
    "l3.extend(\"harsh\")\n",
    "l3"
   ]
  },
  {
   "cell_type": "code",
   "execution_count": 92,
   "id": "1f04f51c-af0a-4d9f-b7ce-efae74b1f492",
   "metadata": {},
   "outputs": [
    {
     "ename": "SyntaxError",
     "evalue": "invalid syntax (507472453.py, line 1)",
     "output_type": "error",
     "traceback": [
      "\u001b[0;36m  Cell \u001b[0;32mIn [92], line 1\u001b[0;36m\u001b[0m\n\u001b[0;31m    l3\"remove\"[3]\u001b[0m\n\u001b[0m      ^\u001b[0m\n\u001b[0;31mSyntaxError\u001b[0m\u001b[0;31m:\u001b[0m invalid syntax\n"
     ]
    }
   ],
   "source": [
    "l3\"remove\"[3]"
   ]
  },
  {
   "cell_type": "code",
   "execution_count": 94,
   "id": "53ba4fd3-f483-4756-b8b7-dad703db0c1f",
   "metadata": {},
   "outputs": [],
   "source": [
    "l4=[\"harsh \",\"kumar \",\"sharma\"]"
   ]
  },
  {
   "cell_type": "code",
   "execution_count": 99,
   "id": "7afaf1ac-14b3-4016-b251-e77b865182b6",
   "metadata": {},
   "outputs": [
    {
     "data": {
      "text/plain": [
       "['harsh ', 'kumar ', 'sharma']"
      ]
     },
     "execution_count": 99,
     "metadata": {},
     "output_type": "execute_result"
    }
   ],
   "source": [
    "l4"
   ]
  },
  {
   "cell_type": "markdown",
   "id": "9eef89fb-e648-4ee0-8bfd-5b692d27d51e",
   "metadata": {
    "jp-MarkdownHeadingCollapsed": true,
    "tags": []
   },
   "source": []
  },
  {
   "cell_type": "code",
   "execution_count": 102,
   "id": "4c222211-5c94-4ad6-88c7-cb1b1e57e83e",
   "metadata": {},
   "outputs": [],
   "source": [
    "l4.append(\"harsh\")"
   ]
  },
  {
   "cell_type": "code",
   "execution_count": 104,
   "id": "abbebc00-9869-4e87-be3a-fb81392d17ad",
   "metadata": {},
   "outputs": [
    {
     "data": {
      "text/plain": [
       "['harsh ', 'kumar ', 'sharma', 'harsh', 'harsh', 'harsh']"
      ]
     },
     "execution_count": 104,
     "metadata": {},
     "output_type": "execute_result"
    }
   ],
   "source": [
    "l4"
   ]
  },
  {
   "cell_type": "code",
   "execution_count": 106,
   "id": "f4fc3292-8d1b-4773-a501-1d976f06a1d5",
   "metadata": {},
   "outputs": [],
   "source": [
    "t=(1232,\"harsh\",[4,3,2,1])"
   ]
  },
  {
   "cell_type": "code",
   "execution_count": 109,
   "id": "70d23b1e-8618-4b1d-bd21-ec5c625cc8b8",
   "metadata": {},
   "outputs": [
    {
     "data": {
      "text/plain": [
       "(1232, 'harsh', [4, 3, 2, 1])"
      ]
     },
     "execution_count": 109,
     "metadata": {},
     "output_type": "execute_result"
    }
   ],
   "source": [
    "t"
   ]
  },
  {
   "cell_type": "code",
   "execution_count": 113,
   "id": "a6c327da-734c-47c0-9a3d-9d13ef677ac3",
   "metadata": {},
   "outputs": [
    {
     "data": {
      "text/plain": [
       "tuple"
      ]
     },
     "execution_count": 113,
     "metadata": {},
     "output_type": "execute_result"
    }
   ],
   "source": [
    "type(t)t\n"
   ]
  },
  {
   "cell_type": "code",
   "execution_count": 116,
   "id": "cd8e3f35-891c-4edc-bc59-bfe410cab2f2",
   "metadata": {},
   "outputs": [
    {
     "data": {
      "text/plain": [
       "3"
      ]
     },
     "execution_count": 116,
     "metadata": {},
     "output_type": "execute_result"
    }
   ],
   "source": [
    "len(t)"
   ]
  },
  {
   "cell_type": "code",
   "execution_count": 118,
   "id": "99c599f2-f6e9-4248-b641-f7d46db3f991",
   "metadata": {},
   "outputs": [
    {
     "data": {
      "text/plain": [
       "([4, 3, 2, 1], 'harsh', 1232)"
      ]
     },
     "execution_count": 118,
     "metadata": {},
     "output_type": "execute_result"
    }
   ],
   "source": [
    "t[::-1]"
   ]
  },
  {
   "cell_type": "code",
   "execution_count": 124,
   "id": "275fea72-b04b-4b5c-b9a6-2f2dc953d399",
   "metadata": {},
   "outputs": [],
   "source": [
    "# sets "
   ]
  },
  {
   "cell_type": "code",
   "execution_count": 140,
   "id": "583adb7a-54f8-4e31-94e6-d852196a6219",
   "metadata": {
    "tags": []
   },
   "outputs": [
    {
     "ename": "TypeError",
     "evalue": "unhashable type: 'list'",
     "output_type": "error",
     "traceback": [
      "\u001b[0;31m---------------------------------------------------------------------------\u001b[0m",
      "\u001b[0;31mTypeError\u001b[0m                                 Traceback (most recent call last)",
      "Cell \u001b[0;32mIn [140], line 1\u001b[0m\n\u001b[0;32m----> 1\u001b[0m s1\u001b[38;5;241m=\u001b[39m{\u001b[38;5;124m\"\u001b[39m\u001b[38;5;124mheelo\u001b[39m\u001b[38;5;124m\"\u001b[39m,(\u001b[38;5;124m\"\u001b[39m\u001b[38;5;124mhi\u001b[39m\u001b[38;5;124m\"\u001b[39m),[\u001b[38;5;241m1\u001b[39m]}\n",
      "\u001b[0;31mTypeError\u001b[0m: unhashable type: 'list'"
     ]
    }
   ],
   "source": [
    "s1={\"heelo\",(\"hi\"),[1]}"
   ]
  },
  {
   "cell_type": "code",
   "execution_count": 137,
   "id": "baabb9c1-c52e-40f1-864c-68e71b353451",
   "metadata": {},
   "outputs": [
    {
     "data": {
      "text/plain": [
       "set"
      ]
     },
     "execution_count": 137,
     "metadata": {},
     "output_type": "execute_result"
    }
   ],
   "source": [
    "type(s1)"
   ]
  },
  {
   "cell_type": "code",
   "execution_count": 142,
   "id": "48f13031-c161-4f4c-a961-0fe81569edad",
   "metadata": {},
   "outputs": [
    {
     "data": {
      "text/plain": [
       "{'heelo', 'hi'}"
      ]
     },
     "execution_count": 142,
     "metadata": {},
     "output_type": "execute_result"
    }
   ],
   "source": [
    "s1"
   ]
  },
  {
   "cell_type": "code",
   "execution_count": 146,
   "id": "d6821cc5-33a2-4d0f-87d9-5ae8f4f17f65",
   "metadata": {},
   "outputs": [],
   "source": [
    "s4={2,3,4,3,4,4,5,3,5,6,8,5,6,56,43\n",
    "}"
   ]
  },
  {
   "cell_type": "code",
   "execution_count": 148,
   "id": "830aac4d-b918-408b-8e04-0291c011166f",
   "metadata": {},
   "outputs": [
    {
     "data": {
      "text/plain": [
       "{2, 3, 4, 5, 6, 8, 43, 56}"
      ]
     },
     "execution_count": 148,
     "metadata": {},
     "output_type": "execute_result"
    }
   ],
   "source": [
    "s4"
   ]
  },
  {
   "cell_type": "code",
   "execution_count": 153,
   "id": "81e5629b-a6a8-4b21-8ba8-2c1012ec36b0",
   "metadata": {},
   "outputs": [],
   "source": [
    "s5={34,2,433,\"har\",2,43540,45,23,54}"
   ]
  },
  {
   "cell_type": "code",
   "execution_count": 3,
   "id": "5e25b110-b20a-47a8-874a-22dbac954d60",
   "metadata": {},
   "outputs": [
    {
     "ename": "NameError",
     "evalue": "name 's5' is not defined",
     "output_type": "error",
     "traceback": [
      "\u001b[0;31m---------------------------------------------------------------------------\u001b[0m",
      "\u001b[0;31mNameError\u001b[0m                                 Traceback (most recent call last)",
      "Cell \u001b[0;32mIn [9], line 1\u001b[0m\n\u001b[0;32m----> 1\u001b[0m \u001b[43ms5\u001b[49m\n",
      "\u001b[0;31mNameError\u001b[0m: name 's5' is not defined"
     ]
    }
   ],
   "source": [
    "s5"
   ]
  },
  {
   "cell_type": "code",
   "execution_count": 11,
   "id": "1ca37261-cb0d-4416-bdc3-dcd0f1825e12",
   "metadata": {},
   "outputs": [],
   "source": [
    "h=[12,343243,343,\"harsh\"]"
   ]
  },
  {
   "cell_type": "code",
   "execution_count": 13,
   "id": "090e4661-eace-42d7-b32c-5df97fdd7b4a",
   "metadata": {},
   "outputs": [
    {
     "data": {
      "text/plain": [
       "[12, 343243, 343, 'harsh']"
      ]
     },
     "execution_count": 13,
     "metadata": {},
     "output_type": "execute_result"
    }
   ],
   "source": [
    "h"
   ]
  },
  {
   "cell_type": "code",
   "execution_count": 17,
   "id": "0794ffff-b29e-4b82-81fb-f28b8594d441",
   "metadata": {},
   "outputs": [],
   "source": [
    "h.append([213,43,90033,4343,343,43334343423432432])"
   ]
  },
  {
   "cell_type": "code",
   "execution_count": 18,
   "id": "150ea95b-a4c6-4f82-8adf-374a567823c6",
   "metadata": {},
   "outputs": [
    {
     "data": {
      "text/plain": [
       "[12, 343243, 343, 'harsh', [213, 43, 90033, 4343, 343, 43334343423432432]]"
      ]
     },
     "execution_count": 18,
     "metadata": {},
     "output_type": "execute_result"
    }
   ],
   "source": [
    "h"
   ]
  },
  {
   "cell_type": "code",
   "execution_count": 20,
   "id": "4bf67b52-3ecd-4758-bfb4-8b1b7d290a92",
   "metadata": {},
   "outputs": [
    {
     "data": {
      "text/plain": [
       "[43334343423432432, 343, 4343, 90033, 43, 213]"
      ]
     },
     "execution_count": 20,
     "metadata": {},
     "output_type": "execute_result"
    }
   ],
   "source": [
    "h[4][::-1]"
   ]
  },
  {
   "cell_type": "code",
   "execution_count": 21,
   "id": "0cb51a80-a186-403e-bba7-12683daac26f",
   "metadata": {},
   "outputs": [],
   "source": [
    "h.append(True)"
   ]
  },
  {
   "cell_type": "code",
   "execution_count": 22,
   "id": "ebc4e3c4-3e08-46c8-84aa-decd202b8fba",
   "metadata": {},
   "outputs": [
    {
     "data": {
      "text/plain": [
       "[12,\n",
       " 343243,\n",
       " 343,\n",
       " 'harsh',\n",
       " [213, 43, 90033, 4343, 343, 43334343423432432],\n",
       " True]"
      ]
     },
     "execution_count": 22,
     "metadata": {},
     "output_type": "execute_result"
    }
   ],
   "source": [
    "h"
   ]
  },
  {
   "cell_type": "code",
   "execution_count": 28,
   "id": "0238fc9b-81a4-475a-8a60-9533abd0e42c",
   "metadata": {},
   "outputs": [
    {
     "ename": "TypeError",
     "evalue": "insert expected 2 arguments, got 1",
     "output_type": "error",
     "traceback": [
      "\u001b[0;31m---------------------------------------------------------------------------\u001b[0m",
      "\u001b[0;31mTypeError\u001b[0m                                 Traceback (most recent call last)",
      "Cell \u001b[0;32mIn [28], line 1\u001b[0m\n\u001b[0;32m----> 1\u001b[0m \u001b[43mh\u001b[49m\u001b[38;5;241;43m.\u001b[39;49m\u001b[43minsert\u001b[49m\u001b[43m(\u001b[49m\u001b[38;5;241;43m2\u001b[39;49m\u001b[43m)\u001b[49m\n",
      "\u001b[0;31mTypeError\u001b[0m: insert expected 2 arguments, got 1"
     ]
    }
   ],
   "source": [
    "h.insert(2)"
   ]
  },
  {
   "cell_type": "code",
   "execution_count": null,
   "id": "c689a20f-0e4b-47a1-979a-a66c709f4aa3",
   "metadata": {},
   "outputs": [],
   "source": []
  }
 ],
 "metadata": {
  "kernelspec": {
   "display_name": "Python 3 (ipykernel)",
   "language": "python",
   "name": "python3"
  },
  "language_info": {
   "codemirror_mode": {
    "name": "ipython",
    "version": 3
   },
   "file_extension": ".py",
   "mimetype": "text/x-python",
   "name": "python",
   "nbconvert_exporter": "python",
   "pygments_lexer": "ipython3",
   "version": "3.10.6"
  }
 },
 "nbformat": 4,
 "nbformat_minor": 5
}
